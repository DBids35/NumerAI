{
 "cells": [
  {
   "cell_type": "markdown",
   "metadata": {},
   "source": [
    "# NumerAI"
   ]
  },
  {
   "cell_type": "markdown",
   "metadata": {},
   "source": [
    "NumerAI is a hedgefund driven by data scientists. It provides anonymized equity data in hopes that participants build models on that data that accurately predicts an equity's performance. NumerAI attempts to monetize by using an ensemble of user-submitted models, and pays their users proportionally to their models role in the ensemble."
   ]
  },
  {
   "cell_type": "code",
   "execution_count": 30,
   "metadata": {
    "collapsed": true
   },
   "outputs": [],
   "source": [
    "import pandas as pd\n",
    "import seaborn as sns\n",
    "from matplotlib import pyplot as plt\n",
    "%matplotlib inline"
   ]
  },
  {
   "cell_type": "code",
   "execution_count": 31,
   "metadata": {
    "collapsed": false
   },
   "outputs": [],
   "source": [
    "trainDF=pd.read_csv('Data/Sept20/numerai_training_data.csv', header=0)"
   ]
  },
  {
   "cell_type": "code",
   "execution_count": 32,
   "metadata": {
    "collapsed": false
   },
   "outputs": [
    {
     "data": {
      "text/html": [
       "<div>\n",
       "<table border=\"1\" class=\"dataframe\">\n",
       "  <thead>\n",
       "    <tr style=\"text-align: right;\">\n",
       "      <th></th>\n",
       "      <th>id</th>\n",
       "      <th>era</th>\n",
       "      <th>data_type</th>\n",
       "      <th>feature1</th>\n",
       "      <th>feature2</th>\n",
       "      <th>feature3</th>\n",
       "      <th>feature4</th>\n",
       "      <th>feature5</th>\n",
       "      <th>feature6</th>\n",
       "      <th>feature7</th>\n",
       "      <th>...</th>\n",
       "      <th>feature42</th>\n",
       "      <th>feature43</th>\n",
       "      <th>feature44</th>\n",
       "      <th>feature45</th>\n",
       "      <th>feature46</th>\n",
       "      <th>feature47</th>\n",
       "      <th>feature48</th>\n",
       "      <th>feature49</th>\n",
       "      <th>feature50</th>\n",
       "      <th>target</th>\n",
       "    </tr>\n",
       "  </thead>\n",
       "  <tbody>\n",
       "    <tr>\n",
       "      <th>0</th>\n",
       "      <td>n5e99b4326e6f463</td>\n",
       "      <td>era1</td>\n",
       "      <td>train</td>\n",
       "      <td>0.64488</td>\n",
       "      <td>0.56167</td>\n",
       "      <td>0.72591</td>\n",
       "      <td>0.52219</td>\n",
       "      <td>0.49311</td>\n",
       "      <td>0.51511</td>\n",
       "      <td>0.45514</td>\n",
       "      <td>...</td>\n",
       "      <td>0.67751</td>\n",
       "      <td>0.43340</td>\n",
       "      <td>0.67009</td>\n",
       "      <td>0.50086</td>\n",
       "      <td>0.51208</td>\n",
       "      <td>0.58674</td>\n",
       "      <td>0.54358</td>\n",
       "      <td>0.58602</td>\n",
       "      <td>0.51818</td>\n",
       "      <td>0</td>\n",
       "    </tr>\n",
       "    <tr>\n",
       "      <th>1</th>\n",
       "      <td>ncf8fb21f31e74d8</td>\n",
       "      <td>era1</td>\n",
       "      <td>train</td>\n",
       "      <td>0.44203</td>\n",
       "      <td>0.42957</td>\n",
       "      <td>0.51861</td>\n",
       "      <td>0.38445</td>\n",
       "      <td>0.62049</td>\n",
       "      <td>0.49168</td>\n",
       "      <td>0.46444</td>\n",
       "      <td>...</td>\n",
       "      <td>0.44734</td>\n",
       "      <td>0.47049</td>\n",
       "      <td>0.50980</td>\n",
       "      <td>0.57241</td>\n",
       "      <td>0.38253</td>\n",
       "      <td>0.52020</td>\n",
       "      <td>0.55781</td>\n",
       "      <td>0.55142</td>\n",
       "      <td>0.51869</td>\n",
       "      <td>1</td>\n",
       "    </tr>\n",
       "    <tr>\n",
       "      <th>2</th>\n",
       "      <td>n834cd2712b7e479</td>\n",
       "      <td>era1</td>\n",
       "      <td>train</td>\n",
       "      <td>0.36741</td>\n",
       "      <td>0.43188</td>\n",
       "      <td>0.52491</td>\n",
       "      <td>0.44392</td>\n",
       "      <td>0.52592</td>\n",
       "      <td>0.50014</td>\n",
       "      <td>0.32131</td>\n",
       "      <td>...</td>\n",
       "      <td>0.39102</td>\n",
       "      <td>0.71896</td>\n",
       "      <td>0.57458</td>\n",
       "      <td>0.50981</td>\n",
       "      <td>0.52993</td>\n",
       "      <td>0.53588</td>\n",
       "      <td>0.52843</td>\n",
       "      <td>0.50573</td>\n",
       "      <td>0.38799</td>\n",
       "      <td>1</td>\n",
       "    </tr>\n",
       "    <tr>\n",
       "      <th>3</th>\n",
       "      <td>nf49d82d23f17475</td>\n",
       "      <td>era1</td>\n",
       "      <td>train</td>\n",
       "      <td>0.80707</td>\n",
       "      <td>0.56341</td>\n",
       "      <td>0.52526</td>\n",
       "      <td>0.66020</td>\n",
       "      <td>0.34807</td>\n",
       "      <td>0.64373</td>\n",
       "      <td>0.68063</td>\n",
       "      <td>...</td>\n",
       "      <td>0.54288</td>\n",
       "      <td>0.39457</td>\n",
       "      <td>0.61531</td>\n",
       "      <td>0.30979</td>\n",
       "      <td>0.51926</td>\n",
       "      <td>0.44679</td>\n",
       "      <td>0.45668</td>\n",
       "      <td>0.66750</td>\n",
       "      <td>0.60906</td>\n",
       "      <td>1</td>\n",
       "    </tr>\n",
       "    <tr>\n",
       "      <th>4</th>\n",
       "      <td>n7586ede71dd04e7</td>\n",
       "      <td>era1</td>\n",
       "      <td>train</td>\n",
       "      <td>0.35577</td>\n",
       "      <td>0.57219</td>\n",
       "      <td>0.61766</td>\n",
       "      <td>0.42305</td>\n",
       "      <td>0.49314</td>\n",
       "      <td>0.49894</td>\n",
       "      <td>0.61066</td>\n",
       "      <td>...</td>\n",
       "      <td>0.48323</td>\n",
       "      <td>0.56839</td>\n",
       "      <td>0.59356</td>\n",
       "      <td>0.41716</td>\n",
       "      <td>0.51963</td>\n",
       "      <td>0.48346</td>\n",
       "      <td>0.52642</td>\n",
       "      <td>0.47278</td>\n",
       "      <td>0.43362</td>\n",
       "      <td>1</td>\n",
       "    </tr>\n",
       "  </tbody>\n",
       "</table>\n",
       "<p>5 rows × 54 columns</p>\n",
       "</div>"
      ],
      "text/plain": [
       "                 id   era data_type  feature1  feature2  feature3  feature4  \\\n",
       "0  n5e99b4326e6f463  era1     train   0.64488   0.56167   0.72591   0.52219   \n",
       "1  ncf8fb21f31e74d8  era1     train   0.44203   0.42957   0.51861   0.38445   \n",
       "2  n834cd2712b7e479  era1     train   0.36741   0.43188   0.52491   0.44392   \n",
       "3  nf49d82d23f17475  era1     train   0.80707   0.56341   0.52526   0.66020   \n",
       "4  n7586ede71dd04e7  era1     train   0.35577   0.57219   0.61766   0.42305   \n",
       "\n",
       "   feature5  feature6  feature7   ...    feature42  feature43  feature44  \\\n",
       "0   0.49311   0.51511   0.45514   ...      0.67751    0.43340    0.67009   \n",
       "1   0.62049   0.49168   0.46444   ...      0.44734    0.47049    0.50980   \n",
       "2   0.52592   0.50014   0.32131   ...      0.39102    0.71896    0.57458   \n",
       "3   0.34807   0.64373   0.68063   ...      0.54288    0.39457    0.61531   \n",
       "4   0.49314   0.49894   0.61066   ...      0.48323    0.56839    0.59356   \n",
       "\n",
       "   feature45  feature46  feature47  feature48  feature49  feature50  target  \n",
       "0    0.50086    0.51208    0.58674    0.54358    0.58602    0.51818       0  \n",
       "1    0.57241    0.38253    0.52020    0.55781    0.55142    0.51869       1  \n",
       "2    0.50981    0.52993    0.53588    0.52843    0.50573    0.38799       1  \n",
       "3    0.30979    0.51926    0.44679    0.45668    0.66750    0.60906       1  \n",
       "4    0.41716    0.51963    0.48346    0.52642    0.47278    0.43362       1  \n",
       "\n",
       "[5 rows x 54 columns]"
      ]
     },
     "execution_count": 32,
     "metadata": {},
     "output_type": "execute_result"
    }
   ],
   "source": [
    "trainDF.head()"
   ]
  },
  {
   "cell_type": "code",
   "execution_count": 33,
   "metadata": {
    "collapsed": false
   },
   "outputs": [
    {
     "data": {
      "text/plain": [
       "<matplotlib.axes._subplots.AxesSubplot at 0x1d89f00ebe0>"
      ]
     },
     "execution_count": 33,
     "metadata": {},
     "output_type": "execute_result"
    },
    {
     "data": {
      "image/png": "[encoded data removed]",
      "text/plain": [
       "<matplotlib.figure.Figure at 0x1d886daa898>"
      ]
     },
     "metadata": {},
     "output_type": "display_data"
    }
   ],
   "source": [
    "sns.heatmap(trainDF.corr())"
   ]
  },
  {
   "cell_type": "markdown",
   "metadata": {},
   "source": [
    "Since all features are anonymous, intuition won't go very far for feature selection. Instead, I'm going to use Principle Component Analysis to reduce the number of features and the correlation between them. NumerAI uses Log Loss as their error metric, which heavily penalizes error. Therefore, although this seems like a classification problem, regression will yield drastically lower Log Loss. Therefore, as a baseline, I'll use Multiple Linear Regression. PCA and Linear Regression can be combined into a pipeline to allow the easy transformation of test data."
   ]
  },
  {
   "cell_type": "code",
   "execution_count": 34,
   "metadata": {
    "collapsed": true
   },
   "outputs": [],
   "source": [
    "from sklearn.pipeline import Pipeline\n",
    "from sklearn.decomposition import PCA\n",
    "from sklearn.linear_model import LinearRegression\n",
    "pipe = Pipeline([('Principle Component Analysis', PCA()), ('Linear Regression', LinearRegression())])"
   ]
  },
  {
   "cell_type": "code",
   "execution_count": 35,
   "metadata": {
    "collapsed": false
   },
   "outputs": [],
   "source": [
    "from sklearn.model_selection import train_test_split\n",
    "xTrain, xTest, yTrain, yTest = train_test_split( trainDF.drop(['id', 'era', 'data_type','target'], axis = 1 ),  trainDF['target'], test_size=0.3)"
   ]
  },
  {
   "cell_type": "code",
   "execution_count": 36,
   "metadata": {
    "collapsed": true
   },
   "outputs": [],
   "source": [
    "pipe.fit(xTrain, yTrain)\n",
    "predictions=pipe.predict(xTest)"
   ]
  },
  {
   "cell_type": "markdown",
   "metadata": {},
   "source": [
    "NumerAI uses Log Loss as their error metric, so I'll do the same."
   ]
  },
  {
   "cell_type": "code",
   "execution_count": 37,
   "metadata": {
    "collapsed": false
   },
   "outputs": [
    {
     "name": "stdout",
     "output_type": "stream",
     "text": [
      "0.691756324013\n"
     ]
    }
   ],
   "source": [
    "from sklearn.metrics import log_loss\n",
    "print(log_loss(yTest, predictions))"
   ]
  },
  {
   "cell_type": "markdown",
   "metadata": {},
   "source": [
    "## Submit"
   ]
  },
  {
   "cell_type": "code",
   "execution_count": 38,
   "metadata": {
    "collapsed": true
   },
   "outputs": [],
   "source": [
    "testDF=pd.read_csv('Data/Sept20/numerai_tournament_data.csv', header=0)"
   ]
  },
  {
   "cell_type": "code",
   "execution_count": 41,
   "metadata": {
    "collapsed": false
   },
   "outputs": [],
   "source": [
    "tournamentPredictions=pipe.predict(testDF.drop(['id', 'era', 'data_type','target'], axis = 1 ))"
   ]
  },
  {
   "cell_type": "code",
   "execution_count": 42,
   "metadata": {
    "collapsed": true
   },
   "outputs": [],
   "source": [
    "results=pd.concat([testDF['id'], pd.Series(tournamentPredictions)], axis=1, keys=['id', 'probability'])"
   ]
  },
  {
   "cell_type": "code",
   "execution_count": 43,
   "metadata": {
    "collapsed": true
   },
   "outputs": [],
   "source": [
    "results.to_csv('submission.csv', index=False)"
   ]
  },
  {
   "cell_type": "markdown",
   "metadata": {},
   "source": [
    "## Next Steps"
   ]
  },
  {
   "cell_type": "markdown",
   "metadata": {},
   "source": [
    "* Experiment with t-SNE over PCA\n",
    "* Test additional models\n",
    "* Build an ensemble"
   ]
  },
  {
   "cell_type": "code",
   "execution_count": null,
   "metadata": {
    "collapsed": true
   },
   "outputs": [],
   "source": []
  }
 ],
 "metadata": {
  "anaconda-cloud": {},
  "kernelspec": {
   "display_name": "Python [default]",
   "language": "python",
   "name": "python3"
  },
  "language_info": {
   "codemirror_mode": {
    "name": "ipython",
    "version": 3
   },
   "file_extension": ".py",
   "mimetype": "text/x-python",
   "name": "python",
   "nbconvert_exporter": "python",
   "pygments_lexer": "ipython3",
   "version": "3.5.2"
  }
 },
 "nbformat": 4,
 "nbformat_minor": 2
}
